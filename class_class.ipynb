{
  "nbformat": 4,
  "nbformat_minor": 0,
  "metadata": {
    "colab": {
      "provenance": []
    },
    "kernelspec": {
      "name": "python3",
      "display_name": "Python 3"
    },
    "language_info": {
      "name": "python"
    }
  },
  "cells": [
    {
      "cell_type": "code",
      "execution_count": 5,
      "metadata": {
        "colab": {
          "base_uri": "https://localhost:8080/"
        },
        "id": "QN_xqwXxdEz7",
        "outputId": "ab3e1f4d-b190-4ac6-8261-28a3bf3c5a0e"
      },
      "outputs": [
        {
          "output_type": "stream",
          "name": "stdout",
          "text": [
            "rahul is good\n",
            "preethi\n",
            "rahul is bad\n",
            "preethika reddy\n"
          ]
        }
      ],
      "source": [
        "class A:\n",
        "  def rahul(self):\n",
        "    print(\"rahul is good\")\n",
        "\n",
        "  def preethi(self):\n",
        "    print(\"preethi\")\n",
        "class Z(A):\n",
        "  def rahul(self):\n",
        "    print(\"rahul is bad\")\n",
        "  def preethi(self):\n",
        "    print(\"preethika reddy\")\n",
        "\n",
        "z1 = A()\n",
        "z1.rahul()\n",
        "z1.preethi()\n",
        "p2 = Z()\n",
        "p2.rahul()\n",
        "p2.preethi()"
      ]
    }
  ]
}